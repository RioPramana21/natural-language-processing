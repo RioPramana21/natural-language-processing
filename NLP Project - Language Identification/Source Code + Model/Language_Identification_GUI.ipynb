{
 "cells": [
  {
   "cell_type": "markdown",
   "id": "18d724b5",
   "metadata": {},
   "source": [
    "# Language Identification App Using Gradio"
   ]
  },
  {
   "cell_type": "markdown",
   "id": "0f87c85a",
   "metadata": {},
   "source": [
    "Anggota Kelompok:\n",
    "\n",
    "2440016804 - Rio Pramana\n",
    "\n",
    "2440087214 - Debora\n",
    "\n",
    "2440030323 - Enrico Fernandez"
   ]
  },
  {
   "cell_type": "markdown",
   "id": "20af27cf",
   "metadata": {},
   "source": [
    "## Install and Import Libraries"
   ]
  },
  {
   "cell_type": "code",
   "execution_count": 1,
   "id": "154e2a89",
   "metadata": {},
   "outputs": [
    {
     "name": "stdout",
     "output_type": "stream",
     "text": [
      "Note: you may need to restart the kernel to use updated packages.\n"
     ]
    }
   ],
   "source": [
    "pip install -q gradio"
   ]
  },
  {
   "cell_type": "code",
   "execution_count": 2,
   "id": "09e320f5",
   "metadata": {},
   "outputs": [
    {
     "name": "stdout",
     "output_type": "stream",
     "text": [
      "Note: you may need to restart the kernel to use updated packages.\n"
     ]
    }
   ],
   "source": [
    "pip install -q datasets"
   ]
  },
  {
   "cell_type": "code",
   "execution_count": 3,
   "id": "2741ba2b",
   "metadata": {},
   "outputs": [],
   "source": [
    "import pickle\n",
    "import pandas as pd\n",
    "import numpy as np\n",
    "import re\n",
    "import warnings\n",
    "import gradio as gr\n",
    "from sklearn.preprocessing import LabelEncoder\n",
    "from datasets import load_dataset\n",
    "from pprint import pprint\n",
    "warnings.simplefilter(\"ignore\")"
   ]
  },
  {
   "cell_type": "markdown",
   "id": "f8452a82",
   "metadata": {},
   "source": [
    "## Define Functions to Load Model and Predict Input"
   ]
  },
  {
   "cell_type": "code",
   "execution_count": 4,
   "id": "0b369bbd",
   "metadata": {},
   "outputs": [],
   "source": [
    "lr_model = mnb_model = None\n",
    "def load_all_models():\n",
    "    with open(\"lr_model.pkl\", \"rb\") as f:\n",
    "        lr_model = pickle.load(f)\n",
    "    with open(\"mnb_model_tfidf.pkl\", \"rb\") as f:\n",
    "        mnb_model = pickle.load(f)\n",
    "    return lr_model, mnb_model\n",
    "\n",
    "def clean_text(text):\n",
    "    text = text.lower()\n",
    "    text = re.sub(r'(@[A-Za-z0-9]+)|([!\"#$%&\\'()*+,-./:;<=>?@[\\]^_`{|}])|(\\w+://\\S+)|^rt|http.+?', '', text)\n",
    "    return text\n",
    "\n",
    "#Change label to something that the user understands\n",
    "def transform_label_to_text(label):\n",
    "    if label == 'ar': return \"Arabic\"\n",
    "    elif label == 'bg': return \"Bulgarian\"\n",
    "    elif label == 'de': return \"German\"\n",
    "    elif label == 'el': return \"Modern Greek\"\n",
    "    elif label == 'en': return \"English\"\n",
    "    elif label == 'es': return \"Spanish\"\n",
    "    elif label == 'fr': return \"French\"\n",
    "    elif label == 'hi': return \"Hindi\"\n",
    "    elif label == 'it': return \"Italian\"\n",
    "    elif label == 'ja': return \"Japanese\"\n",
    "    elif label == 'nl': return \"Dutch\"\n",
    "    elif label == 'pl': return \"Polish\"\n",
    "    elif label == 'pt': return \"Portuguese\"\n",
    "    elif label == 'ru': return \"Russian\"\n",
    "    elif label == 'sw': return \"Swahili\"\n",
    "    elif label == 'th': return \"Thai\"\n",
    "    elif label == 'tr': return \"Turkish\"\n",
    "    elif label == 'ur': return \"Urdu\"\n",
    "    elif label == 'vi': return \"Vietnamese\"\n",
    "    elif label == 'zh': return \"Chinese\"\n",
    "    return label\n",
    "    \n",
    "def predict_input(model_choice, input):\n",
    "    input = clean_text(input)\n",
    "    if model_choice == \"Logistic Regression (One vs All)\":\n",
    "        model = lr_model\n",
    "    elif model_choice == \"Multinomial Naive Bayes\":\n",
    "        model = mnb_model\n",
    "    lang = model.predict([input])\n",
    "    lang = le.inverse_transform(lang)\n",
    "    return transform_label_to_text(lang[0])"
   ]
  },
  {
   "cell_type": "code",
   "execution_count": 5,
   "id": "60497c42",
   "metadata": {},
   "outputs": [
    {
     "name": "stderr",
     "output_type": "stream",
     "text": [
      "Using custom data configuration papluca--language-identification-a54c87a573b2eb6b\n",
      "Reusing dataset csv (C:\\Users\\User\\.cache\\huggingface\\datasets\\papluca___csv\\papluca--language-identification-a54c87a573b2eb6b\\0.0.0\\51cce309a08df9c4d82ffd9363bbe090bf173197fc01a71b034e8594995a1a58)\n"
     ]
    }
   ],
   "source": [
    "#Prepare everything before launching app\n",
    "ds_train = load_dataset('papluca/language-identification', split='train')\n",
    "ds_train = ds_train.to_pandas()\n",
    "y_train = ds_train[\"labels\"] #Need a dataset to use fit label encoder\n",
    "lr_model, mnb_model = load_all_models()\n",
    "le = LabelEncoder()\n",
    "y_train = le.fit_transform(y_train)"
   ]
  },
  {
   "cell_type": "code",
   "execution_count": 6,
   "id": "512c339d",
   "metadata": {},
   "outputs": [],
   "source": [
    "# To test if there's an error or not\n",
    "# predict_input(\"Logistic Regression (One vs All)\", \"Does this work\")\n",
    "# predict_input(\"Multinomial Naive Bayes\", \"Does this work\")"
   ]
  },
  {
   "cell_type": "markdown",
   "id": "10a92a86",
   "metadata": {},
   "source": [
    "## App Making and Deployment Using Gradio"
   ]
  },
  {
   "cell_type": "code",
   "execution_count": 7,
   "id": "5ebdaf8a",
   "metadata": {
    "scrolled": true
   },
   "outputs": [
    {
     "name": "stdout",
     "output_type": "stream",
     "text": [
      "Running on local URL:  http://127.0.0.1:7863/\n",
      "Running on public URL: https://35899.gradio.app\n",
      "\n",
      "This share link expires in 72 hours. For free permanent hosting, check out Spaces (https://huggingface.co/spaces)\n"
     ]
    },
    {
     "data": {
      "text/html": [
       "<div><iframe src=\"https://35899.gradio.app\" width=\"900\" height=\"500\" allow=\"autoplay; camera; microphone;\" frameborder=\"0\" allowfullscreen></iframe></div>"
      ],
      "text/plain": [
       "<IPython.core.display.HTML object>"
      ]
     },
     "metadata": {},
     "output_type": "display_data"
    },
    {
     "data": {
      "text/plain": [
       "(<gradio.routes.App at 0x1f81784c730>,\n",
       " 'http://127.0.0.1:7863/',\n",
       " 'https://35899.gradio.app')"
      ]
     },
     "execution_count": 7,
     "metadata": {},
     "output_type": "execute_result"
    }
   ],
   "source": [
    "model_choice = gr.inputs.Dropdown([\"Logistic Regression (One vs All)\", \"Multinomial Naive Bayes\"])\n",
    "app_inputs = gr.inputs.Textbox(lines=1, placeholder=\"Enter text here...\")\n",
    "demo = gr.Interface(fn=predict_input, inputs=[model_choice, app_inputs], \n",
    "                    outputs='text', \n",
    "                    title='Language Identification', \n",
    "                    description = 'This app is used to identify which language your input belongs to. You can choose between 2 models, each of which has an accuracy score of 99%. The result of the language identification will be shown on the output box on the right. Thank you! <3 \\n\\n This app can identify 20 languages, which are: arabic (ar), bulgarian (bg), german (de), modern greek (el), english (en), spanish (es), french (fr), hindi (hi), italian (it), japanese (ja), dutch (nl), polish (pl), portuguese (pt), russian (ru), swahili (sw), thai (th), turkish (tr), urdu (ur), vietnamese (vi), and chinese (zh)')\n",
    "\n",
    "demo.launch(share=True)"
   ]
  }
 ],
 "metadata": {
  "kernelspec": {
   "display_name": "Python 3 (ipykernel)",
   "language": "python",
   "name": "python3"
  },
  "language_info": {
   "codemirror_mode": {
    "name": "ipython",
    "version": 3
   },
   "file_extension": ".py",
   "mimetype": "text/x-python",
   "name": "python",
   "nbconvert_exporter": "python",
   "pygments_lexer": "ipython3",
   "version": "3.9.7"
  }
 },
 "nbformat": 4,
 "nbformat_minor": 5
}
