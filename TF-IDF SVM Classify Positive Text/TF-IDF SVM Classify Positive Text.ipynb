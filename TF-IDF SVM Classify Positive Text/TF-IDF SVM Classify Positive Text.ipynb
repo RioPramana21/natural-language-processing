{
 "cells": [
  {
   "cell_type": "markdown",
   "id": "6ff640cb",
   "metadata": {},
   "source": [
    "# 2440016804 nomor 4b"
   ]
  },
  {
   "cell_type": "markdown",
   "id": "8156e000",
   "metadata": {},
   "source": [
    "### Code ini menggunakan corpus yang ada pada nomor 3 dengan beberapa tambahan text dan juga label untuk mendemonstrasikan penggunaan TF-IDF dalam problem classification"
   ]
  },
  {
   "cell_type": "markdown",
   "id": "b6222419",
   "metadata": {},
   "source": [
    "#### Import library dan dataset"
   ]
  },
  {
   "cell_type": "code",
   "execution_count": 1,
   "id": "3d5faa59",
   "metadata": {},
   "outputs": [],
   "source": [
    "#Menggunakan library pandas dan numpy\n",
    "import numpy as np\n",
    "import pandas as pd"
   ]
  },
  {
   "cell_type": "code",
   "execution_count": 2,
   "id": "f2f7ccbb",
   "metadata": {},
   "outputs": [],
   "source": [
    "#File .csv berada dalam folder yang sama\n",
    "csv_path = 'corpus_nomor_3.csv'\n",
    "data = pd.read_csv(csv_path)"
   ]
  },
  {
   "cell_type": "markdown",
   "id": "9c6b3c67",
   "metadata": {},
   "source": [
    "Berikut adalah contoh data yang ada pada corpus_nomor_3.csv"
   ]
  },
  {
   "cell_type": "code",
   "execution_count": 3,
   "id": "66df51de",
   "metadata": {},
   "outputs": [
    {
     "data": {
      "text/html": [
       "<div>\n",
       "<style scoped>\n",
       "    .dataframe tbody tr th:only-of-type {\n",
       "        vertical-align: middle;\n",
       "    }\n",
       "\n",
       "    .dataframe tbody tr th {\n",
       "        vertical-align: top;\n",
       "    }\n",
       "\n",
       "    .dataframe thead th {\n",
       "        text-align: right;\n",
       "    }\n",
       "</style>\n",
       "<table border=\"1\" class=\"dataframe\">\n",
       "  <thead>\n",
       "    <tr style=\"text-align: right;\">\n",
       "      <th></th>\n",
       "      <th>text</th>\n",
       "      <th>is_positive</th>\n",
       "    </tr>\n",
       "  </thead>\n",
       "  <tbody>\n",
       "    <tr>\n",
       "      <th>0</th>\n",
       "      <td>saya suka dengan makanan laut</td>\n",
       "      <td>1</td>\n",
       "    </tr>\n",
       "    <tr>\n",
       "      <th>1</th>\n",
       "      <td>saya tidak suka dengan makanan laut</td>\n",
       "      <td>0</td>\n",
       "    </tr>\n",
       "    <tr>\n",
       "      <th>2</th>\n",
       "      <td>saya suka dengan minuman yang manis</td>\n",
       "      <td>1</td>\n",
       "    </tr>\n",
       "    <tr>\n",
       "      <th>3</th>\n",
       "      <td>saya benci dengan minuman yang manis</td>\n",
       "      <td>0</td>\n",
       "    </tr>\n",
       "    <tr>\n",
       "      <th>4</th>\n",
       "      <td>kemarin saya makan makanan laut</td>\n",
       "      <td>1</td>\n",
       "    </tr>\n",
       "  </tbody>\n",
       "</table>\n",
       "</div>"
      ],
      "text/plain": [
       "                                   text  is_positive\n",
       "0         saya suka dengan makanan laut            1\n",
       "1   saya tidak suka dengan makanan laut            0\n",
       "2   saya suka dengan minuman yang manis            1\n",
       "3  saya benci dengan minuman yang manis            0\n",
       "4       kemarin saya makan makanan laut            1"
      ]
     },
     "execution_count": 3,
     "metadata": {},
     "output_type": "execute_result"
    }
   ],
   "source": [
    "data.head(5)"
   ]
  },
  {
   "cell_type": "markdown",
   "id": "08fae8da",
   "metadata": {},
   "source": [
    "Untuk melakukan proses klasifikasi, kita harus meng-extract variabel independent dan variabel dependentnya terlebih dahulu. is_positive = dependent, text = independent"
   ]
  },
  {
   "cell_type": "code",
   "execution_count": 4,
   "id": "132674de",
   "metadata": {},
   "outputs": [],
   "source": [
    "# Membuat set feature dan label dengan mengextract\n",
    "# variable independent dan dependent\n",
    "text = data['text']\n",
    "label = data['is_positive']"
   ]
  },
  {
   "cell_type": "code",
   "execution_count": 5,
   "id": "a2c9abb0",
   "metadata": {},
   "outputs": [
    {
     "data": {
      "text/plain": [
       "0          saya suka dengan makanan laut\n",
       "1    saya tidak suka dengan makanan laut\n",
       "2    saya suka dengan minuman yang manis\n",
       "Name: text, dtype: object"
      ]
     },
     "execution_count": 5,
     "metadata": {},
     "output_type": "execute_result"
    }
   ],
   "source": [
    "text.head(3)"
   ]
  },
  {
   "cell_type": "code",
   "execution_count": 6,
   "id": "cd3cbf13",
   "metadata": {},
   "outputs": [
    {
     "data": {
      "text/plain": [
       "0    1\n",
       "1    0\n",
       "2    1\n",
       "Name: is_positive, dtype: int64"
      ]
     },
     "execution_count": 6,
     "metadata": {},
     "output_type": "execute_result"
    }
   ],
   "source": [
    "label.head(3)"
   ]
  },
  {
   "cell_type": "markdown",
   "id": "66a1c7ae",
   "metadata": {},
   "source": [
    "#### Metode TF-IDF"
   ]
  },
  {
   "cell_type": "markdown",
   "id": "89c1fbdc",
   "metadata": {},
   "source": [
    "Setelah itu, kita bisa memulai proses TF-IDF dengan bantuan library sklearn"
   ]
  },
  {
   "cell_type": "code",
   "execution_count": 7,
   "id": "f755684e",
   "metadata": {},
   "outputs": [],
   "source": [
    "from sklearn.feature_extraction.text import TfidfVectorizer"
   ]
  },
  {
   "cell_type": "markdown",
   "id": "32847776",
   "metadata": {},
   "source": [
    "Setelah itu, kita buat corpusnya menggunakan variable text"
   ]
  },
  {
   "cell_type": "code",
   "execution_count": 8,
   "id": "5aef07e2",
   "metadata": {},
   "outputs": [],
   "source": [
    "corpus = list(text)"
   ]
  },
  {
   "cell_type": "markdown",
   "id": "df386838",
   "metadata": {},
   "source": [
    "Kemudian, dari corpus ini, kita buat feature table untuk TF-IDF nya menggunakan TfidfVectorizer. Setelah itu kita perlu melakukan .fit() pada vectorizer tersebut menggunakan corpus. Model TF-IDF ini kemudian yang akan mengtransformasi data berupa teks menjadi representasi TF-IDF"
   ]
  },
  {
   "cell_type": "code",
   "execution_count": 9,
   "id": "09facba4",
   "metadata": {},
   "outputs": [],
   "source": [
    "tfidf = TfidfVectorizer() \n",
    "tfidf.fit(corpus)\n",
    "tfidf_features = tfidf.transform(corpus)"
   ]
  },
  {
   "cell_type": "code",
   "execution_count": 10,
   "id": "5d730b99",
   "metadata": {},
   "outputs": [
    {
     "name": "stdout",
     "output_type": "stream",
     "text": [
      "  (0, 24)\t0.5095875771359335\n",
      "  (0, 23)\t0.2234118179927761\n",
      "  (0, 16)\t0.4344157030482929\n",
      "  (0, 13)\t0.5594404836084055\n",
      "  (0, 7)\t0.4344157030482929\n",
      "  (1, 28)\t0.5292128755748472\n",
      "  (1, 24)\t0.4323794985413791\n",
      "  (1, 23)\t0.18956248968009376\n",
      "  (1, 16)\t0.3685969836592324\n",
      "  (1, 13)\t0.4746791456845585\n",
      "  (1, 7)\t0.3685969836592324\n",
      "  (2, 29)\t0.448529992666489\n",
      "  (2, 24)\t0.448529992666489\n",
      "  (2, 23)\t0.1966431396328495\n",
      "  (2, 19)\t0.49240964118573916\n",
      "  (2, 17)\t0.412677709315777\n",
      "  (2, 7)\t0.3823650356580068\n",
      "  (3, 29)\t0.4395477248143441\n",
      "  (3, 23)\t0.19270516139204466\n",
      "  (3, 19)\t0.48254863888394295\n",
      "  (3, 17)\t0.40441341978711637\n",
      "  (3, 7)\t0.3747077881523111\n",
      "  (3, 0)\t0.48254863888394295\n",
      "  (4, 23)\t0.21768640404498363\n",
      "  (4, 16)\t0.42328285543208855\n",
      "  :\t:\n",
      "  (12, 1)\t0.4318435239940037\n",
      "  (13, 29)\t0.39317828281677175\n",
      "  (13, 28)\t0.4812323673184781\n",
      "  (13, 24)\t0.39317828281677175\n",
      "  (13, 23)\t0.17237601327149538\n",
      "  (13, 19)\t0.43164287857955863\n",
      "  (13, 17)\t0.36175041972317745\n",
      "  (13, 7)\t0.33517854009146386\n",
      "  (14, 27)\t0.48001506960326434\n",
      "  (14, 23)\t0.17193998082363182\n",
      "  (14, 18)\t0.3921837216487201\n",
      "  (14, 17)\t0.36083535666983296\n",
      "  (14, 14)\t0.549730732516034\n",
      "  (14, 1)\t0.3921837216487201\n",
      "  (15, 29)\t0.401755837863644\n",
      "  (15, 23)\t0.1761365585691757\n",
      "  (15, 22)\t0.49173090526273816\n",
      "  (15, 17)\t0.3696423462969824\n",
      "  (15, 16)\t0.3424907760511103\n",
      "  (15, 7)\t0.3424907760511103\n",
      "  (15, 0)\t0.44105957505903326\n",
      "  (16, 23)\t0.209159961795517\n",
      "  (16, 22)\t0.5839243039260128\n",
      "  (16, 20)\t0.5839243039260128\n",
      "  (16, 0)\t0.5237527326427431\n"
     ]
    }
   ],
   "source": [
    "print(tfidf_features)"
   ]
  },
  {
   "cell_type": "markdown",
   "id": "75c47534",
   "metadata": {},
   "source": [
    "#### Training dan testing model"
   ]
  },
  {
   "cell_type": "markdown",
   "id": "460294ba",
   "metadata": {},
   "source": [
    "Untuk problem classification, SVM merupakan salah satu algoritma terbaik yang bisa digunakan. Maka, pada code ini akan digunakan algoritma SVM untuk memprediksi label pada training data. Karena data di corpus ini sangat sedikit, maka akan dilakukan split 50/50 untuk data training dan testing"
   ]
  },
  {
   "cell_type": "code",
   "execution_count": 11,
   "id": "c4fdb41a",
   "metadata": {},
   "outputs": [],
   "source": [
    "# Import algoritma SVM\n",
    "from sklearn.svm import LinearSVC"
   ]
  },
  {
   "cell_type": "code",
   "execution_count": 12,
   "id": "0daf41e3",
   "metadata": {},
   "outputs": [],
   "source": [
    "# Melakukan split data training dan testing\n",
    "train_percent = 0.5\n",
    "train_cutoff = int(np.floor(train_percent*len(text)))\n",
    "\n",
    "# Membuat model dan melakukan prediksi terhadap data testing\n",
    "tfidf_model = LinearSVC()\n",
    "tfidf_model.fit(tfidf_features[0:train_cutoff],label[0:train_cutoff])\n",
    "tfidf_prediction = tfidf_model.predict(tfidf_features[train_cutoff+1:len(text)])"
   ]
  },
  {
   "cell_type": "markdown",
   "id": "a128cf2b",
   "metadata": {},
   "source": [
    "Berikut adalah hasil prediksi dari model diatas"
   ]
  },
  {
   "cell_type": "code",
   "execution_count": 13,
   "id": "74be8f9d",
   "metadata": {},
   "outputs": [
    {
     "name": "stdout",
     "output_type": "stream",
     "text": [
      "[1 1 1 1 0 1 0 0]\n"
     ]
    }
   ],
   "source": [
    "print(tfidf_prediction)"
   ]
  },
  {
   "cell_type": "markdown",
   "id": "02bc25a1",
   "metadata": {},
   "source": [
    "#### Evaluating model"
   ]
  },
  {
   "cell_type": "markdown",
   "id": "1fe24b79",
   "metadata": {},
   "source": [
    "Evaluasi dilakukan menggunakan metrics dari library sklearn"
   ]
  },
  {
   "cell_type": "code",
   "execution_count": 14,
   "id": "f0da4044",
   "metadata": {},
   "outputs": [],
   "source": [
    "#Import metrics\n",
    "from sklearn.metrics import precision_recall_fscore_support"
   ]
  },
  {
   "cell_type": "code",
   "execution_count": 15,
   "id": "5f84e221",
   "metadata": {},
   "outputs": [
    {
     "data": {
      "text/plain": [
       "(1.0, 1.0, 1.0, None)"
      ]
     },
     "execution_count": 15,
     "metadata": {},
     "output_type": "execute_result"
    }
   ],
   "source": [
    "#Melakukan evaluasi berdasarkan metrics\n",
    "#Average di set = binary karena hanya ada 2 class di dataset\n",
    "#ini, yaitu 1 dan 0 (is positive atau tidak)\n",
    "precision_recall_fscore_support(\n",
    "        label[train_cutoff+1:len(text)], \n",
    "        tfidf_prediction, \n",
    "        average = 'binary'\n",
    "        )"
   ]
  }
 ],
 "metadata": {
  "kernelspec": {
   "display_name": "Python 3 (ipykernel)",
   "language": "python",
   "name": "python3"
  },
  "language_info": {
   "codemirror_mode": {
    "name": "ipython",
    "version": 3
   },
   "file_extension": ".py",
   "mimetype": "text/x-python",
   "name": "python",
   "nbconvert_exporter": "python",
   "pygments_lexer": "ipython3",
   "version": "3.9.7"
  }
 },
 "nbformat": 4,
 "nbformat_minor": 5
}
